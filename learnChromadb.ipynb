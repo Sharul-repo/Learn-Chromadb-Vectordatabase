{
 "cells": [
  {
   "cell_type": "markdown",
   "id": "b5bbfa11",
   "metadata": {},
   "source": [
    "# ChromaDB Sample Tutorial\n",
    "# ------------------------\n",
    "# This notebook demonstrates how to use **ChromaDB** with a persistent client,\n",
    "# create a collection, add documents, and query them.\n",
    "\n",
    "\n",
    "# First, install ChromaDB if you don't already have it:\n",
    "# !pip install chromadb"
   ]
  },
  {
   "cell_type": "code",
   "execution_count": null,
   "id": "d6c1e2aa",
   "metadata": {},
   "outputs": [],
   "source": [
    "import chromadb"
   ]
  },
  {
   "cell_type": "markdown",
   "id": "ae464d7e",
   "metadata": {},
   "source": [
    "# ## Step 1: Create a Persistent Client\n",
    "# A persistent client ensures that your data is stored permanently on disk\n",
    "# (not just in memory) so it can be reused later."
   ]
  },
  {
   "cell_type": "code",
   "execution_count": null,
   "id": "9fb5d8ac",
   "metadata": {},
   "outputs": [],
   "source": [
    "client = chromadb.PersistentClient(path=\"./chroma_db_store\")"
   ]
  },
  {
   "cell_type": "markdown",
   "id": "19605278",
   "metadata": {},
   "source": [
    "# ## Step 2: Create (or Get) a Collection\n",
    "# A collection is like a 'table' where your embeddings (vectors) and metadata are stored.\n",
    "# The function `get_or_create_collection` will fetch the collection if it exists,\n",
    "# otherwise create a new one."
   ]
  },
  {
   "cell_type": "code",
   "execution_count": null,
   "id": "e44d0c9f",
   "metadata": {},
   "outputs": [],
   "source": [
    "collection = client.get_or_create_collection(name=\"sample_collection\")"
   ]
  },
  {
   "cell_type": "markdown",
   "id": "569a4977",
   "metadata": {},
   "source": [
    "# ## Step 3: Add Documents to the Collection\n",
    "# - `ids` must be a **unique list of strings** (each ID identifies a document).\n",
    "# - `documents` should be a **list of strings** (or other supported types like text, etc.).\n",
    "#\n",
    "# When you add documents, Chroma automatically converts them into **embeddings (vectors)**\n",
    "# you can either use the default embedding model or go with any other choices."
   ]
  },
  {
   "cell_type": "code",
   "execution_count": null,
   "id": "b6d750a0",
   "metadata": {},
   "outputs": [],
   "source": [
    "collection.add(\n",
    "ids=[\"doc1\", \"doc2\", \"doc3\"], # unique identifiers for each document\n",
    "documents=[\n",
    "\"Dogs are wonderful pets.\",\n",
    "\"Cats are independent animals.\",\n",
    "\"I love driving fast cars.\"\n",
    "]\n",
    ")"
   ]
  },
  {
   "cell_type": "markdown",
   "id": "2249a3d3",
   "metadata": {},
   "source": [
    "# ## Step 4: Querying the Collection\n",
    "# Now, let’s perform a similarity search.\n",
    "# - The `query_texts` parameter accepts a list of query strings.\n",
    "# - `n_results` specifies **how many closest (most similar) documents** should be returned.\n",
    "#\n",
    "# Under the hood, Chroma uses vector similarity search algorithms\n",
    "# (e.g., cosine similarity, Euclidean distance, or inner product depending on configuration)\n",
    "# to find nearest vectors."
   ]
  },
  {
   "cell_type": "code",
   "execution_count": null,
   "id": "46f7fd59",
   "metadata": {},
   "outputs": [],
   "source": [
    "results = collection.query(\n",
    "query_texts=[\"Tell me about pets\"],\n",
    "n_results=2 # returns top 2 most similar documents\n",
    ")\n",
    "\n",
    "print(\"Query Results:\")\n",
    "print(results)"
   ]
  },
  {
   "cell_type": "markdown",
   "id": "f8511441",
   "metadata": {},
   "source": [
    "# ## Explanation of `n_results`:\n",
    "# - If `n_results=1`, you get only the closest (most similar) document.\n",
    "# - If `n_results=3`, you get the top 3 most relevant documents ranked by similarity.\n",
    "#\n",
    "# Example: Searching \"Tell me about pets\" should likely return documents about \"Dogs\" and \"Cats\".\n",
    "\n",
    "\n",
    "# ## Summary:\n",
    "# - PersistentClient ensures data is stored on disk.\n",
    "# - get_or_create_collection manages collections safely.\n",
    "# - add() inserts documents with unique IDs.\n",
    "# - query() performs similarity search using embeddings.\n",
    "# - n_results controls how many similar documents are returned."
   ]
  }
 ],
 "metadata": {
  "language_info": {
   "name": "python"
  }
 },
 "nbformat": 4,
 "nbformat_minor": 5
}
